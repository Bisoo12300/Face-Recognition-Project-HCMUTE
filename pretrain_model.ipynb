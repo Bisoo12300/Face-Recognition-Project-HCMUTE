{
  "cells": [
    {
      "cell_type": "code",
      "execution_count": null,
      "metadata": {
        "colab": {
          "base_uri": "https://localhost:8080/"
        },
        "id": "F_E_S-ZSu26F",
        "outputId": "c6de278a-8ff8-441a-df8f-21d82d76c4f0"
      },
      "outputs": [],
      "source": [
        "from google.colab import drive\n",
        "drive.mount('/content/drive')"
      ]
    },
    {
      "cell_type": "code",
      "execution_count": null,
      "metadata": {
        "colab": {
          "base_uri": "https://localhost:8080/"
        },
        "id": "FLznANvEvHwm",
        "outputId": "90c7147b-25cb-43b6-a7bd-c7802326c63e"
      },
      "outputs": [],
      "source": [
        "!pip install mtcnn\n"
      ]
    },
    {
      "cell_type": "code",
      "execution_count": null,
      "metadata": {
        "id": "_F_Owyrbvc3r"
      },
      "outputs": [],
      "source": [
        "import cv2 as cv \n",
        "import os \n",
        "import tensorflow as tf\n",
        "import matplotlib.pyplot as plt\n",
        "import numpy as np\n",
        "\n",
        "os.environ ['TF_CPP_MIN-LOG_LEVEL']='2'"
      ]
    },
    {
      "cell_type": "code",
      "execution_count": null,
      "metadata": {
        "colab": {
          "base_uri": "https://localhost:8080/",
          "height": 452
        },
        "id": "o5vfVaKewZGi",
        "outputId": "9cecac64-934d-46fe-ed70-41e9b8067f15"
      },
      "outputs": [],
      "source": [
        "img=cv.imread(\"/content/drive/MyDrive/Colab Notebooks/dataset/sardor_abdirayimov/1.jpg\")\n",
        "# opencv BGR channel format and plt reads images as RBG channel format\n",
        "img=cv.cvtColor(img, cv.COLOR_BGR2RGB)\n",
        "plt.imshow(img) #RGB"
      ]
    },
    {
      "cell_type": "code",
      "execution_count": null,
      "metadata": {
        "colab": {
          "base_uri": "https://localhost:8080/"
        },
        "id": "xiFiZUP9yKI-",
        "outputId": "a1559227-c1ec-4c88-e025-defd1c72f39c"
      },
      "outputs": [],
      "source": [
        "from mtcnn.mtcnn import MTCNN\n",
        "\n",
        "detector=MTCNN()\n",
        "result=detector.detect_faces(img)"
      ]
    },
    {
      "cell_type": "code",
      "execution_count": null,
      "metadata": {
        "colab": {
          "base_uri": "https://localhost:8080/"
        },
        "id": "Mug7l4Vt0kdz",
        "outputId": "9aa0f739-493c-4bcd-f56f-9bdaa2d009f9"
      },
      "outputs": [],
      "source": [
        "result"
      ]
    },
    {
      "cell_type": "code",
      "execution_count": null,
      "metadata": {
        "id": "QB9S4pPI0tfi"
      },
      "outputs": [],
      "source": [
        "x,y,w,h=result[0]['box']"
      ]
    },
    {
      "cell_type": "code",
      "execution_count": null,
      "metadata": {
        "colab": {
          "base_uri": "https://localhost:8080/",
          "height": 452
        },
        "id": "lgh71du30z-p",
        "outputId": "dc2d8433-ffb7-4585-f5e0-c4b97024b805"
      },
      "outputs": [],
      "source": [
        "img=cv.rectangle(img,(x,y),(x+w,y+h),(0,0,255),30)\n",
        "plt.imshow(img)"
      ]
    },
    {
      "cell_type": "code",
      "execution_count": null,
      "metadata": {
        "colab": {
          "base_uri": "https://localhost:8080/",
          "height": 451
        },
        "id": "CAsaEGpA15ow",
        "outputId": "c0fba924-65c1-4c7a-b2b5-b100abd1e3db"
      },
      "outputs": [],
      "source": [
        "my_face = img[y:y+h,x:x+w]\n",
        "#facenet take as input 160x160\n",
        "my_face=cv.resize (my_face,(160,160))\n",
        "plt.imshow(my_face)"
      ]
    },
    {
      "cell_type": "code",
      "execution_count": null,
      "metadata": {
        "colab": {
          "base_uri": "https://localhost:8080/"
        },
        "id": "gYz7HDh74EF3",
        "outputId": "2f474124-83e3-444d-962c-8c74013eaa7e"
      },
      "outputs": [],
      "source": [
        "my_face"
      ]
    },
    {
      "cell_type": "markdown",
      "metadata": {
        "id": "SJl3soAf4yiR"
      },
      "source": [
        "Automate the preprocessing"
      ]
    },
    {
      "cell_type": "code",
      "execution_count": null,
      "metadata": {
        "id": "9U_uHILx0Bd8"
      },
      "outputs": [],
      "source": [
        "class FACELOADING:\n",
        "    def __init__(self, directory):\n",
        "        self.directory = directory\n",
        "        self.target_size = (160,160)\n",
        "        self.X = []\n",
        "        self.Y = []\n",
        "        self.detector = MTCNN()\n",
        "    \n",
        "\n",
        "    def extract_face(self, filename):\n",
        "        img = cv.imread(filename)\n",
        "        img = cv.cvtColor(img, cv.COLOR_BGR2RGB)\n",
        "        x,y,w,h = self.detector.detect_faces(img)[0]['box']\n",
        "        x,y = abs(x), abs(y)\n",
        "        face = img[y:y+h, x:x+w]\n",
        "        face_arr = cv.resize(face, self.target_size)\n",
        "        return face_arr\n",
        "    \n",
        "\n",
        "    def load_faces(self, dir):\n",
        "        FACES = []\n",
        "        for im_name in os.listdir(dir):\n",
        "            try:\n",
        "                path = dir + im_name\n",
        "                single_face = self.extract_face(path)\n",
        "                FACES.append(single_face)\n",
        "            except Exception as e:\n",
        "                pass\n",
        "        return FACES\n",
        "\n",
        "    def load_classes(self):\n",
        "        for sub_dir in os.listdir(self.directory):\n",
        "            path = self.directory +'/'+ sub_dir+'/'\n",
        "            FACES = self.load_faces(path)\n",
        "            labels = [sub_dir for _ in range(len(FACES))]\n",
        "            print(f\"Loaded successfully: {len(labels)}\")\n",
        "            self.X.extend(FACES)\n",
        "            self.Y.extend(labels)\n",
        "        \n",
        "        return np.asarray(self.X), np.asarray(self.Y)\n",
        "\n",
        "\n",
        "    def plot_images(self):\n",
        "        plt.figure(figsize=(18,16))\n",
        "        for num,image in enumerate(self.X):\n",
        "            ncols = 3\n",
        "            nrows = len(self.Y)//ncols + 1\n",
        "            plt.subplot(nrows,ncols,num+1)\n",
        "            plt.imshow(image)\n",
        "            plt.axis('off')"
      ]
    },
    {
      "cell_type": "code",
      "execution_count": null,
      "metadata": {
        "colab": {
          "base_uri": "https://localhost:8080/"
        },
        "id": "3Yb1llYFJ4wP",
        "outputId": "5e5d62bf-2f72-428e-a38f-9c820c98de1b"
      },
      "outputs": [],
      "source": [
        "faceloading=FACELOADING(\"/content/drive/MyDrive/Colab Notebooks/dataset\")\n",
        "X, Y = faceloading.load_classes()\n"
      ]
    },
    {
      "cell_type": "code",
      "execution_count": null,
      "metadata": {
        "colab": {
          "base_uri": "https://localhost:8080/",
          "height": 641
        },
        "id": "R8-4wPTiSBNZ",
        "outputId": "70062a0d-16d6-48ef-e07c-8836d9d46b01"
      },
      "outputs": [],
      "source": [
        "plt.figure(figsize=(16,12))\n",
        "for num,image in enumerate(X):\n",
        "    ncols = 3\n",
        "    nrows = len(Y)//ncols + 1\n",
        "    plt.subplot(nrows,ncols,num+1)\n",
        "    plt.imshow(image)\n",
        "    plt.axis('off')"
      ]
    },
    {
      "cell_type": "markdown",
      "metadata": {
        "id": "Vmj6Ugh7S0uG"
      },
      "source": [
        "# **FaceNet part**"
      ]
    },
    {
      "cell_type": "code",
      "execution_count": null,
      "metadata": {
        "colab": {
          "base_uri": "https://localhost:8080/"
        },
        "id": "rsEa2aGDTE3X",
        "outputId": "a716d228-2818-46d6-e264-4ba9b1406f05"
      },
      "outputs": [],
      "source": [
        "!pip install keras-facenet"
      ]
    },
    {
      "cell_type": "code",
      "execution_count": null,
      "metadata": {
        "id": "WfNvuBYNTL0N"
      },
      "outputs": [],
      "source": [
        "from keras_facenet import FaceNet\n",
        "embedder = FaceNet()\n",
        "\n",
        "def get_embedding(face_img):\n",
        "    face_img = face_img.astype('float32') # 3D(160x160x3)\n",
        "    face_img = np.expand_dims(face_img, axis=0) \n",
        "    # 4D (Nonex160x160x3)\n",
        "    yhat= embedder.embeddings(face_img)\n",
        "    return yhat[0] # 512D image (1x1x512)"
      ]
    },
    {
      "cell_type": "code",
      "execution_count": null,
      "metadata": {
        "colab": {
          "base_uri": "https://localhost:8080/"
        },
        "id": "gILv-1DFTP3K",
        "outputId": "f1cdf6c0-e6d6-4f1f-ceb3-4b36241f3e1f"
      },
      "outputs": [],
      "source": [
        "EMBEDDED_X = []\n",
        "\n",
        "for img in X:\n",
        "    EMBEDDED_X.append(get_embedding(img))\n",
        "\n",
        "EMBEDDED_X = np.asarray(EMBEDDED_X)"
      ]
    },
    {
      "cell_type": "code",
      "execution_count": null,
      "metadata": {
        "id": "cAcEC-LgTXvr"
      },
      "outputs": [],
      "source": [
        "np.savez_compressed('faces_embeddings_done_4classes.npz', EMBEDDED_X, Y)"
      ]
    },
    {
      "cell_type": "markdown",
      "metadata": {
        "id": "Y0xtHWtnTpNb"
      },
      "source": [
        "# SVM model"
      ]
    },
    {
      "cell_type": "code",
      "execution_count": null,
      "metadata": {
        "id": "IL66wb6DToel"
      },
      "outputs": [],
      "source": [
        "from sklearn.preprocessing import LabelEncoder\n",
        "\n",
        "encoder = LabelEncoder()\n",
        "encoder.fit(Y)\n",
        "Y = encoder.transform(Y)"
      ]
    },
    {
      "cell_type": "code",
      "execution_count": null,
      "metadata": {
        "colab": {
          "base_uri": "https://localhost:8080/",
          "height": 447
        },
        "id": "uN6wO8o1TuiU",
        "outputId": "04b8230b-e4e0-471d-8698-493415aea975"
      },
      "outputs": [],
      "source": [
        "plt.plot(EMBEDDED_X[0]) \n",
        "plt.ylabel(Y[0])"
      ]
    },
    {
      "cell_type": "code",
      "execution_count": null,
      "metadata": {
        "colab": {
          "base_uri": "https://localhost:8080/"
        },
        "id": "9zvucvopTzUx",
        "outputId": "1e9d0789-19c9-43f9-eb65-c14df83b87f1"
      },
      "outputs": [
        {
          "data": {
            "text/plain": [
              "array([1, 1, 1, 1, 1, 1, 1, 1, 1, 1, 2, 2, 2, 2, 2, 2, 2, 2, 2, 2, 0, 0,\n",
              "       0, 0, 0, 0, 0, 0, 0, 0, 3, 3, 3, 3, 3, 3, 3, 3, 3, 3])"
            ]
          },
          "execution_count": 31,
          "metadata": {},
          "output_type": "execute_result"
        }
      ],
      "source": [
        "Y"
      ]
    },
    {
      "cell_type": "code",
      "execution_count": null,
      "metadata": {
        "id": "-0GMs9cQT15R"
      },
      "outputs": [],
      "source": [
        "from sklearn.model_selection import train_test_split\n",
        "\n",
        "X_train, X_test, Y_train, Y_test = train_test_split(EMBEDDED_X, Y, shuffle=True, random_state=17)"
      ]
    },
    {
      "cell_type": "code",
      "execution_count": null,
      "metadata": {
        "colab": {
          "base_uri": "https://localhost:8080/",
          "height": 75
        },
        "id": "JgEHVJg4T5tE",
        "outputId": "008c9b80-c1b5-4a2e-c826-98d2b9e8e1f1"
      },
      "outputs": [
        {
          "data": {
            "text/html": [
              "<style>#sk-container-id-1 {color: black;background-color: white;}#sk-container-id-1 pre{padding: 0;}#sk-container-id-1 div.sk-toggleable {background-color: white;}#sk-container-id-1 label.sk-toggleable__label {cursor: pointer;display: block;width: 100%;margin-bottom: 0;padding: 0.3em;box-sizing: border-box;text-align: center;}#sk-container-id-1 label.sk-toggleable__label-arrow:before {content: \"▸\";float: left;margin-right: 0.25em;color: #696969;}#sk-container-id-1 label.sk-toggleable__label-arrow:hover:before {color: black;}#sk-container-id-1 div.sk-estimator:hover label.sk-toggleable__label-arrow:before {color: black;}#sk-container-id-1 div.sk-toggleable__content {max-height: 0;max-width: 0;overflow: hidden;text-align: left;background-color: #f0f8ff;}#sk-container-id-1 div.sk-toggleable__content pre {margin: 0.2em;color: black;border-radius: 0.25em;background-color: #f0f8ff;}#sk-container-id-1 input.sk-toggleable__control:checked~div.sk-toggleable__content {max-height: 200px;max-width: 100%;overflow: auto;}#sk-container-id-1 input.sk-toggleable__control:checked~label.sk-toggleable__label-arrow:before {content: \"▾\";}#sk-container-id-1 div.sk-estimator input.sk-toggleable__control:checked~label.sk-toggleable__label {background-color: #d4ebff;}#sk-container-id-1 div.sk-label input.sk-toggleable__control:checked~label.sk-toggleable__label {background-color: #d4ebff;}#sk-container-id-1 input.sk-hidden--visually {border: 0;clip: rect(1px 1px 1px 1px);clip: rect(1px, 1px, 1px, 1px);height: 1px;margin: -1px;overflow: hidden;padding: 0;position: absolute;width: 1px;}#sk-container-id-1 div.sk-estimator {font-family: monospace;background-color: #f0f8ff;border: 1px dotted black;border-radius: 0.25em;box-sizing: border-box;margin-bottom: 0.5em;}#sk-container-id-1 div.sk-estimator:hover {background-color: #d4ebff;}#sk-container-id-1 div.sk-parallel-item::after {content: \"\";width: 100%;border-bottom: 1px solid gray;flex-grow: 1;}#sk-container-id-1 div.sk-label:hover label.sk-toggleable__label {background-color: #d4ebff;}#sk-container-id-1 div.sk-serial::before {content: \"\";position: absolute;border-left: 1px solid gray;box-sizing: border-box;top: 0;bottom: 0;left: 50%;z-index: 0;}#sk-container-id-1 div.sk-serial {display: flex;flex-direction: column;align-items: center;background-color: white;padding-right: 0.2em;padding-left: 0.2em;position: relative;}#sk-container-id-1 div.sk-item {position: relative;z-index: 1;}#sk-container-id-1 div.sk-parallel {display: flex;align-items: stretch;justify-content: center;background-color: white;position: relative;}#sk-container-id-1 div.sk-item::before, #sk-container-id-1 div.sk-parallel-item::before {content: \"\";position: absolute;border-left: 1px solid gray;box-sizing: border-box;top: 0;bottom: 0;left: 50%;z-index: -1;}#sk-container-id-1 div.sk-parallel-item {display: flex;flex-direction: column;z-index: 1;position: relative;background-color: white;}#sk-container-id-1 div.sk-parallel-item:first-child::after {align-self: flex-end;width: 50%;}#sk-container-id-1 div.sk-parallel-item:last-child::after {align-self: flex-start;width: 50%;}#sk-container-id-1 div.sk-parallel-item:only-child::after {width: 0;}#sk-container-id-1 div.sk-dashed-wrapped {border: 1px dashed gray;margin: 0 0.4em 0.5em 0.4em;box-sizing: border-box;padding-bottom: 0.4em;background-color: white;}#sk-container-id-1 div.sk-label label {font-family: monospace;font-weight: bold;display: inline-block;line-height: 1.2em;}#sk-container-id-1 div.sk-label-container {text-align: center;}#sk-container-id-1 div.sk-container {/* jupyter's `normalize.less` sets `[hidden] { display: none; }` but bootstrap.min.css set `[hidden] { display: none !important; }` so we also need the `!important` here to be able to override the default hidden behavior on the sphinx rendered scikit-learn.org. See: https://github.com/scikit-learn/scikit-learn/issues/21755 */display: inline-block !important;position: relative;}#sk-container-id-1 div.sk-text-repr-fallback {display: none;}</style><div id=\"sk-container-id-1\" class=\"sk-top-container\"><div class=\"sk-text-repr-fallback\"><pre>SVC(kernel=&#x27;linear&#x27;, probability=True)</pre><b>In a Jupyter environment, please rerun this cell to show the HTML representation or trust the notebook. <br />On GitHub, the HTML representation is unable to render, please try loading this page with nbviewer.org.</b></div><div class=\"sk-container\" hidden><div class=\"sk-item\"><div class=\"sk-estimator sk-toggleable\"><input class=\"sk-toggleable__control sk-hidden--visually\" id=\"sk-estimator-id-1\" type=\"checkbox\" checked><label for=\"sk-estimator-id-1\" class=\"sk-toggleable__label sk-toggleable__label-arrow\">SVC</label><div class=\"sk-toggleable__content\"><pre>SVC(kernel=&#x27;linear&#x27;, probability=True)</pre></div></div></div></div></div>"
            ],
            "text/plain": [
              "SVC(kernel='linear', probability=True)"
            ]
          },
          "execution_count": 33,
          "metadata": {},
          "output_type": "execute_result"
        }
      ],
      "source": [
        "9"
      ]
    },
    {
      "cell_type": "code",
      "execution_count": null,
      "metadata": {
        "id": "T6nps5yHT6-0"
      },
      "outputs": [],
      "source": [
        "ypreds_train = model.predict(X_train)\n",
        "ypreds_test = model.predict(X_test)"
      ]
    },
    {
      "cell_type": "code",
      "execution_count": null,
      "metadata": {
        "colab": {
          "base_uri": "https://localhost:8080/"
        },
        "id": "Lt8Tk91sT8FO",
        "outputId": "ea4f4212-8d5d-4469-c317-e2210e417b2b"
      },
      "outputs": [
        {
          "data": {
            "text/plain": [
              "1.0"
            ]
          },
          "execution_count": 35,
          "metadata": {},
          "output_type": "execute_result"
        }
      ],
      "source": [
        "from sklearn.metrics import accuracy_score\n",
        "\n",
        "accuracy_score(Y_train, ypreds_train)"
      ]
    },
    {
      "cell_type": "code",
      "execution_count": null,
      "metadata": {
        "colab": {
          "base_uri": "https://localhost:8080/"
        },
        "id": "hR3RrWppT9Z6",
        "outputId": "be4d7eb7-ef7e-4149-9337-30b34bc029c0"
      },
      "outputs": [
        {
          "data": {
            "text/plain": [
              "1.0"
            ]
          },
          "execution_count": 36,
          "metadata": {},
          "output_type": "execute_result"
        }
      ],
      "source": [
        "accuracy_score(Y_test,ypreds_test)"
      ]
    },
    {
      "cell_type": "code",
      "execution_count": null,
      "metadata": {
        "colab": {
          "base_uri": "https://localhost:8080/"
        },
        "id": "I_AUGFbxT-ml",
        "outputId": "4dcd69f9-c67d-41f4-c94e-2cf3ec55a8b9"
      },
      "outputs": [],
      "source": [
        "t_im = cv.imread(\"/content/drive/MyDrive/face_recognition/sardor_test.jpg\")\n",
        "t_im = cv.cvtColor(t_im, cv.COLOR_BGR2RGB)\n",
        "x,y,w,h = detector.detect_faces(t_im)[0]['box']"
      ]
    },
    {
      "cell_type": "code",
      "execution_count": null,
      "metadata": {
        "colab": {
          "base_uri": "https://localhost:8080/"
        },
        "id": "H_x4VL6lUANX",
        "outputId": "2ef8a53c-d5f0-4d33-976b-272f2a97cf89"
      },
      "outputs": [
        {
          "name": "stdout",
          "output_type": "stream",
          "text": [
            "1/1 [==============================] - 0s 42ms/step\n"
          ]
        }
      ],
      "source": [
        "t_im = t_im[y:y+h, x:x+w]\n",
        "t_im = cv.resize(t_im, (160,160))\n",
        "test_im = get_embedding(t_im)"
      ]
    },
    {
      "cell_type": "code",
      "execution_count": null,
      "metadata": {
        "id": "Vdl3vyKsUCNq"
      },
      "outputs": [],
      "source": [
        "test_im = [test_im]\n",
        "ypreds = model.predict(test_im)"
      ]
    },
    {
      "cell_type": "code",
      "execution_count": null,
      "metadata": {
        "colab": {
          "base_uri": "https://localhost:8080/"
        },
        "id": "_9SklfAsUEVU",
        "outputId": "35128ecb-ae05-44a7-ad73-bde52506a3a3"
      },
      "outputs": [
        {
          "data": {
            "text/plain": [
              "array([2])"
            ]
          },
          "execution_count": 40,
          "metadata": {},
          "output_type": "execute_result"
        }
      ],
      "source": [
        "ypreds"
      ]
    },
    {
      "cell_type": "code",
      "execution_count": null,
      "metadata": {
        "colab": {
          "base_uri": "https://localhost:8080/"
        },
        "id": "9bDzCMUQUFbq",
        "outputId": "0b978059-c3f5-4294-a8fc-250a1b5e86b8"
      },
      "outputs": [
        {
          "data": {
            "text/plain": [
              "array(['sardor_abdirayimov'], dtype='<U18')"
            ]
          },
          "execution_count": 41,
          "metadata": {},
          "output_type": "execute_result"
        }
      ],
      "source": [
        "encoder.inverse_transform(ypreds)"
      ]
    },
    {
      "cell_type": "code",
      "execution_count": null,
      "metadata": {
        "id": "ojR4MzYAUGhf"
      },
      "outputs": [],
      "source": [
        "import pickle\n",
        "#save the model\n",
        "with open('svm_model_160x160.pkl','wb') as f:\n",
        "    pickle.dump(model,f)"
      ]
    }
  ],
  "metadata": {
    "accelerator": "GPU",
    "colab": {
      "provenance": []
    },
    "gpuClass": "standard",
    "kernelspec": {
      "display_name": "Python 3",
      "name": "python3"
    },
    "language_info": {
      "name": "python"
    }
  },
  "nbformat": 4,
  "nbformat_minor": 0
}
